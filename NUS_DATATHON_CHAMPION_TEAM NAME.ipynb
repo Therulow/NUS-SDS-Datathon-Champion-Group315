{
 "cells": [
  {
   "cell_type": "markdown",
   "metadata": {},
   "source": [
    "##### The cell below is for you to keep track of the libraries used and install those libraries quickly\n",
    "##### Ensure that the proper library names are used and the syntax of `%pip install PACKAGE_NAME` is followed"
   ]
  },
  {
   "cell_type": "code",
   "execution_count": null,
   "metadata": {},
   "outputs": [],
   "source": [
    "#%pip install pandas \n",
    "#%pip install matplotlib\n",
    "# add commented pip installation lines for packages used as shown above for ease of testing\n",
    "# the line should be of the format %pip install PACKAGE_NAME "
   ]
  },
  {
   "cell_type": "markdown",
   "metadata": {},
   "source": [
    "## **DO NOT CHANGE** the filepath variable\n",
    "##### Instead, create a folder named 'data' in your current working directory and \n",
    "##### have the .csv file inside that. A relative path *must* be used when loading data into pandas"
   ]
  },
  {
   "cell_type": "code",
   "execution_count": 2,
   "metadata": {},
   "outputs": [],
   "source": [
    "# Can have as many cells as you want for code\n",
    "import pandas as pd\n",
    "filepath = \"./data/catA_train.csv\" \n",
    "# the initialised filepath MUST be a relative path to a folder named data that contains the parquet file"
   ]
  },
  {
   "cell_type": "markdown",
   "metadata": {},
   "source": [
    "### **ALL** Code for machine learning and dataset analysis should be entered below. \n",
    "##### Ensure that your code is clear and readable.\n",
    "##### Comments and Markdown notes are advised to direct attention to pieces of code you deem useful."
   ]
  },
  {
   "cell_type": "markdown",
   "metadata": {},
   "source": [
    "### Section 0: Data Information\n",
    "##### placeholder text"
   ]
  },
  {
   "cell_type": "code",
   "execution_count": 12,
   "metadata": {},
   "outputs": [],
   "source": [
    "# assigning dataset into variable\n",
    "data = pd.read_csv(filepath)"
   ]
  },
  {
   "cell_type": "code",
   "execution_count": 13,
   "metadata": {},
   "outputs": [
    {
     "name": "stdout",
     "output_type": "stream",
     "text": [
      "<class 'pandas.core.frame.DataFrame'>\n",
      "RangeIndex: 29182 entries, 0 to 29181\n",
      "Data columns (total 28 columns):\n",
      " #   Column                               Non-Null Count  Dtype  \n",
      "---  ------                               --------------  -----  \n",
      " 0   LATITUDE                             29062 non-null  float64\n",
      " 1   LONGITUDE                            29062 non-null  float64\n",
      " 2   AccountID                            29182 non-null  object \n",
      " 3   Company                              29182 non-null  object \n",
      " 4   SIC Code                             29182 non-null  float64\n",
      " 5   Industry                             29182 non-null  object \n",
      " 6   8-Digit SIC Code                     29182 non-null  float64\n",
      " 7   8-Digit SIC Description              29182 non-null  object \n",
      " 8   Year Found                           28748 non-null  float64\n",
      " 9   Entity Type                          29182 non-null  object \n",
      " 10  Parent Company                       28668 non-null  object \n",
      " 11  Parent Country                       28662 non-null  object \n",
      " 12  Ownership Type                       29182 non-null  object \n",
      " 13  Company Description                  29182 non-null  object \n",
      " 14  Square Footage                       0 non-null      float64\n",
      " 15  Company Status (Active/Inactive)     29182 non-null  object \n",
      " 16  Employees (Single Site)              16779 non-null  float64\n",
      " 17  Employees (Domestic Ultimate Total)  29103 non-null  float64\n",
      " 18  Employees (Global Ultimate Total)    26408 non-null  float64\n",
      " 19  Sales (Domestic Ultimate Total USD)  29182 non-null  float64\n",
      " 20  Sales (Global Ultimate Total USD)    29182 non-null  float64\n",
      " 21  Import/Export Status                 6613 non-null   object \n",
      " 22  Fiscal Year End                      6737 non-null   object \n",
      " 23  Global Ultimate Company              28668 non-null  object \n",
      " 24  Global Ultimate Country              28659 non-null  object \n",
      " 25  Domestic Ultimate Company            28147 non-null  object \n",
      " 26  Is Domestic Ultimate                 29182 non-null  float64\n",
      " 27  Is Global Ultimate                   29182 non-null  float64\n",
      "dtypes: float64(13), object(15)\n",
      "memory usage: 6.2+ MB\n"
     ]
    }
   ],
   "source": [
    "# 29182 rows, 28 columns\n",
    "data.info()"
   ]
  },
  {
   "cell_type": "code",
   "execution_count": 14,
   "metadata": {
    "scrolled": true
   },
   "outputs": [
    {
     "data": {
      "text/html": [
       "<div>\n",
       "<style scoped>\n",
       "    .dataframe tbody tr th:only-of-type {\n",
       "        vertical-align: middle;\n",
       "    }\n",
       "\n",
       "    .dataframe tbody tr th {\n",
       "        vertical-align: top;\n",
       "    }\n",
       "\n",
       "    .dataframe thead th {\n",
       "        text-align: right;\n",
       "    }\n",
       "</style>\n",
       "<table border=\"1\" class=\"dataframe\">\n",
       "  <thead>\n",
       "    <tr style=\"text-align: right;\">\n",
       "      <th></th>\n",
       "      <th>LATITUDE</th>\n",
       "      <th>LONGITUDE</th>\n",
       "      <th>SIC Code</th>\n",
       "      <th>8-Digit SIC Code</th>\n",
       "      <th>Year Found</th>\n",
       "      <th>Square Footage</th>\n",
       "      <th>Employees (Single Site)</th>\n",
       "      <th>Employees (Domestic Ultimate Total)</th>\n",
       "      <th>Employees (Global Ultimate Total)</th>\n",
       "      <th>Sales (Domestic Ultimate Total USD)</th>\n",
       "      <th>Sales (Global Ultimate Total USD)</th>\n",
       "      <th>Is Domestic Ultimate</th>\n",
       "      <th>Is Global Ultimate</th>\n",
       "    </tr>\n",
       "  </thead>\n",
       "  <tbody>\n",
       "    <tr>\n",
       "      <th>count</th>\n",
       "      <td>29062.000000</td>\n",
       "      <td>29062.000000</td>\n",
       "      <td>29182.000000</td>\n",
       "      <td>2.918200e+04</td>\n",
       "      <td>28748.000000</td>\n",
       "      <td>0.0</td>\n",
       "      <td>16779.000000</td>\n",
       "      <td>29103.000000</td>\n",
       "      <td>2.640800e+04</td>\n",
       "      <td>2.918200e+04</td>\n",
       "      <td>2.918200e+04</td>\n",
       "      <td>29182.000000</td>\n",
       "      <td>29182.000000</td>\n",
       "    </tr>\n",
       "    <tr>\n",
       "      <th>mean</th>\n",
       "      <td>1.320677</td>\n",
       "      <td>103.843324</td>\n",
       "      <td>6169.271160</td>\n",
       "      <td>6.169092e+07</td>\n",
       "      <td>2004.505913</td>\n",
       "      <td>NaN</td>\n",
       "      <td>36.856189</td>\n",
       "      <td>139.764182</td>\n",
       "      <td>6.994665e+03</td>\n",
       "      <td>7.520992e+08</td>\n",
       "      <td>3.931771e+09</td>\n",
       "      <td>0.500069</td>\n",
       "      <td>0.257248</td>\n",
       "    </tr>\n",
       "    <tr>\n",
       "      <th>std</th>\n",
       "      <td>0.043740</td>\n",
       "      <td>0.053757</td>\n",
       "      <td>1705.845535</td>\n",
       "      <td>1.705778e+07</td>\n",
       "      <td>13.464238</td>\n",
       "      <td>NaN</td>\n",
       "      <td>173.334420</td>\n",
       "      <td>1118.939249</td>\n",
       "      <td>4.539462e+04</td>\n",
       "      <td>1.019636e+10</td>\n",
       "      <td>2.184589e+10</td>\n",
       "      <td>0.500009</td>\n",
       "      <td>0.437125</td>\n",
       "    </tr>\n",
       "    <tr>\n",
       "      <th>min</th>\n",
       "      <td>1.238792</td>\n",
       "      <td>103.611319</td>\n",
       "      <td>132.000000</td>\n",
       "      <td>1.320000e+06</td>\n",
       "      <td>1819.000000</td>\n",
       "      <td>NaN</td>\n",
       "      <td>1.000000</td>\n",
       "      <td>1.000000</td>\n",
       "      <td>1.000000e+00</td>\n",
       "      <td>-1.502631e+08</td>\n",
       "      <td>1.000000e+00</td>\n",
       "      <td>0.000000</td>\n",
       "      <td>0.000000</td>\n",
       "    </tr>\n",
       "    <tr>\n",
       "      <th>25%</th>\n",
       "      <td>1.284665</td>\n",
       "      <td>103.831874</td>\n",
       "      <td>5084.000000</td>\n",
       "      <td>5.084000e+07</td>\n",
       "      <td>1997.000000</td>\n",
       "      <td>NaN</td>\n",
       "      <td>10.000000</td>\n",
       "      <td>4.000000</td>\n",
       "      <td>4.000000e+00</td>\n",
       "      <td>1.026308e+06</td>\n",
       "      <td>1.026308e+06</td>\n",
       "      <td>0.000000</td>\n",
       "      <td>0.000000</td>\n",
       "    </tr>\n",
       "    <tr>\n",
       "      <th>50%</th>\n",
       "      <td>1.309701</td>\n",
       "      <td>103.848989</td>\n",
       "      <td>6719.000000</td>\n",
       "      <td>6.719000e+07</td>\n",
       "      <td>2008.000000</td>\n",
       "      <td>NaN</td>\n",
       "      <td>16.000000</td>\n",
       "      <td>16.000000</td>\n",
       "      <td>1.500000e+01</td>\n",
       "      <td>2.606644e+06</td>\n",
       "      <td>3.259582e+06</td>\n",
       "      <td>1.000000</td>\n",
       "      <td>0.000000</td>\n",
       "    </tr>\n",
       "    <tr>\n",
       "      <th>75%</th>\n",
       "      <td>1.337889</td>\n",
       "      <td>103.865922</td>\n",
       "      <td>7311.000000</td>\n",
       "      <td>7.311000e+07</td>\n",
       "      <td>2014.000000</td>\n",
       "      <td>NaN</td>\n",
       "      <td>29.000000</td>\n",
       "      <td>60.000000</td>\n",
       "      <td>1.000000e+02</td>\n",
       "      <td>2.176969e+07</td>\n",
       "      <td>1.482258e+08</td>\n",
       "      <td>1.000000</td>\n",
       "      <td>1.000000</td>\n",
       "    </tr>\n",
       "    <tr>\n",
       "      <th>max</th>\n",
       "      <td>1.469800</td>\n",
       "      <td>104.003218</td>\n",
       "      <td>9721.000000</td>\n",
       "      <td>9.721990e+07</td>\n",
       "      <td>2023.000000</td>\n",
       "      <td>NaN</td>\n",
       "      <td>12000.000000</td>\n",
       "      <td>80000.000000</td>\n",
       "      <td>2.190000e+06</td>\n",
       "      <td>3.184764e+11</td>\n",
       "      <td>5.140000e+11</td>\n",
       "      <td>1.000000</td>\n",
       "      <td>1.000000</td>\n",
       "    </tr>\n",
       "  </tbody>\n",
       "</table>\n",
       "</div>"
      ],
      "text/plain": [
       "           LATITUDE     LONGITUDE      SIC Code  8-Digit SIC Code  \\\n",
       "count  29062.000000  29062.000000  29182.000000      2.918200e+04   \n",
       "mean       1.320677    103.843324   6169.271160      6.169092e+07   \n",
       "std        0.043740      0.053757   1705.845535      1.705778e+07   \n",
       "min        1.238792    103.611319    132.000000      1.320000e+06   \n",
       "25%        1.284665    103.831874   5084.000000      5.084000e+07   \n",
       "50%        1.309701    103.848989   6719.000000      6.719000e+07   \n",
       "75%        1.337889    103.865922   7311.000000      7.311000e+07   \n",
       "max        1.469800    104.003218   9721.000000      9.721990e+07   \n",
       "\n",
       "         Year Found  Square Footage  Employees (Single Site)  \\\n",
       "count  28748.000000             0.0             16779.000000   \n",
       "mean    2004.505913             NaN                36.856189   \n",
       "std       13.464238             NaN               173.334420   \n",
       "min     1819.000000             NaN                 1.000000   \n",
       "25%     1997.000000             NaN                10.000000   \n",
       "50%     2008.000000             NaN                16.000000   \n",
       "75%     2014.000000             NaN                29.000000   \n",
       "max     2023.000000             NaN             12000.000000   \n",
       "\n",
       "       Employees (Domestic Ultimate Total)  Employees (Global Ultimate Total)  \\\n",
       "count                         29103.000000                       2.640800e+04   \n",
       "mean                            139.764182                       6.994665e+03   \n",
       "std                            1118.939249                       4.539462e+04   \n",
       "min                               1.000000                       1.000000e+00   \n",
       "25%                               4.000000                       4.000000e+00   \n",
       "50%                              16.000000                       1.500000e+01   \n",
       "75%                              60.000000                       1.000000e+02   \n",
       "max                           80000.000000                       2.190000e+06   \n",
       "\n",
       "       Sales (Domestic Ultimate Total USD)  Sales (Global Ultimate Total USD)  \\\n",
       "count                         2.918200e+04                       2.918200e+04   \n",
       "mean                          7.520992e+08                       3.931771e+09   \n",
       "std                           1.019636e+10                       2.184589e+10   \n",
       "min                          -1.502631e+08                       1.000000e+00   \n",
       "25%                           1.026308e+06                       1.026308e+06   \n",
       "50%                           2.606644e+06                       3.259582e+06   \n",
       "75%                           2.176969e+07                       1.482258e+08   \n",
       "max                           3.184764e+11                       5.140000e+11   \n",
       "\n",
       "       Is Domestic Ultimate  Is Global Ultimate  \n",
       "count          29182.000000        29182.000000  \n",
       "mean               0.500069            0.257248  \n",
       "std                0.500009            0.437125  \n",
       "min                0.000000            0.000000  \n",
       "25%                0.000000            0.000000  \n",
       "50%                1.000000            0.000000  \n",
       "75%                1.000000            1.000000  \n",
       "max                1.000000            1.000000  "
      ]
     },
     "execution_count": 14,
     "metadata": {},
     "output_type": "execute_result"
    }
   ],
   "source": [
    "data.describe()"
   ]
  },
  {
   "cell_type": "code",
   "execution_count": 11,
   "metadata": {},
   "outputs": [
    {
     "data": {
      "text/plain": [
       "0"
      ]
     },
     "execution_count": 11,
     "metadata": {},
     "output_type": "execute_result"
    }
   ],
   "source": [
    "data.duplicated().sum()"
   ]
  },
  {
   "cell_type": "markdown",
   "metadata": {},
   "source": [
    "### Section 1: Data Preparation\n",
    "##### placeholder text"
   ]
  },
  {
   "cell_type": "code",
   "execution_count": null,
   "metadata": {},
   "outputs": [],
   "source": []
  },
  {
   "cell_type": "markdown",
   "metadata": {},
   "source": [
    "## The cell below is **NOT** to be removed\n",
    "##### The function is to be amended so that it accepts the given input (dataframe) and returns the required output (list). \n",
    "##### It is recommended to test the function out prior to submission\n",
    "-------------------------------------------------------------------------------------------------------------------------------\n",
    "##### The hidden_data parsed into the function below will have the same layout columns wise as the dataset *SENT* to you\n",
    "##### Thus, ensure that steps taken to modify the initial dataset to fit into the model are also carried out in the function below"
   ]
  },
  {
   "cell_type": "code",
   "execution_count": 11,
   "metadata": {},
   "outputs": [],
   "source": [
    "def testing_hidden_data(hidden_data: pd.DataFrame) -> list:\n",
    "    '''DO NOT REMOVE THIS FUNCTION.\n",
    "\n",
    "The function accepts a dataframe as input and return an iterable (list)\n",
    "of binary classes as output.\n",
    "\n",
    "The function should be coded to test on hidden data\n",
    "and should include any preprocessing functions needed for your model to perform. \n",
    "    \n",
    "All relevant code MUST be included in this function.'''\n",
    "\n",
    "    result = [] \n",
    "    return result"
   ]
  },
  {
   "cell_type": "markdown",
   "metadata": {},
   "source": [
    "##### Cell to check testing_hidden_data function"
   ]
  },
  {
   "cell_type": "code",
   "execution_count": null,
   "metadata": {},
   "outputs": [],
   "source": [
    "# This cell should output a list of predictions.\n",
    "test_df = pd.read_csv(filepath)\n",
    "test_df = test_df.drop(columns=['Sales (Domestic Ultimate Total USD)'])\n",
    "print(testing_hidden_data(test_df))"
   ]
  },
  {
   "cell_type": "markdown",
   "metadata": {},
   "source": [
    "### Please have the filename renamed and ensure that it can be run with the requirements above being met. All the best!"
   ]
  }
 ],
 "metadata": {
  "kernelspec": {
   "display_name": "Python 3 (ipykernel)",
   "language": "python",
   "name": "python3"
  },
  "language_info": {
   "codemirror_mode": {
    "name": "ipython",
    "version": 3
   },
   "file_extension": ".py",
   "mimetype": "text/x-python",
   "name": "python",
   "nbconvert_exporter": "python",
   "pygments_lexer": "ipython3",
   "version": "3.10.11"
  }
 },
 "nbformat": 4,
 "nbformat_minor": 4
}
